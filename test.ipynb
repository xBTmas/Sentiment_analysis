{
 "cells": [
  {
   "cell_type": "code",
   "execution_count": null,
   "id": "9b54fda1-b755-40af-be72-73bf62b8561d",
   "metadata": {},
   "outputs": [],
   "source": [
    "import torch\n",
    "import numpy as np\n",
    "import matplotlib.pyplot as plt\n",
    "from sklearn.metrics import confusion_matrix\n",
    "from transformers import BertTokenizer, AutoModelForSequenceClassification"
   ]
  },
  {
   "cell_type": "code",
   "execution_count": null,
   "id": "5a0128d3-299d-4c5f-8d3a-5c8b5f6e1a99",
   "metadata": {},
   "outputs": [],
   "source": [
    "model_path = \"bert_sentiment_model.pth\"\n",
    "device = torch.device(\"cuda\" if torch.cuda.is_available() else \"cpu\")\n",
    "print(\"Device being used:\", device)"
   ]
  },
  {
   "cell_type": "code",
   "execution_count": null,
   "id": "f28dc1c3-8dfa-4a5b-bfef-205f1f80d9e9",
   "metadata": {},
   "outputs": [],
   "source": [
    "tokenizer = BertTokenizer.from_pretrained(\"bert-base-uncased\")\n",
    "model = AutoModelForSequenceClassification.from_pretrained(\"bert-base-uncased\", num_labels=3)\n",
    "model.to(device)\n",
    "model.load_state_dict(torch.load(model_path, map_location=device))\n",
    "model.eval()\n",
    "\n",
    "label_map = {1:'Positive', 0:'Negative', 2:'Neutral'}\n",
    "\n",
    "def predict_sentiment(text):\n",
    "    inputs = tokenizer.encode_plus(\n",
    "        text,\n",
    "        max_length=128,\n",
    "        truncation=True,\n",
    "        padding=\"max_length\",\n",
    "        return_tensors='pt'\n",
    "    )\n",
    "\n",
    "    input_ids = inputs['input_ids'].to(device)\n",
    "    attention_mask = inputs['attention_mask'].to(device)\n",
    "\n",
    "    with torch.no_grad():\n",
    "        outputs = model(input_ids, attention_mask=attention_mask)\n",
    "\n",
    "    predicted_class = torch.argmax(outputs.logits, dim=1)\n",
    "    sentiment = label_map[predicted_class.item()]\n",
    "    \n",
    "    return predicted_class"
   ]
  },
  {
   "cell_type": "code",
   "execution_count": null,
   "id": "893ab122-fbed-4ff0-bab1-b7c664166f85",
   "metadata": {},
   "outputs": [],
   "source": [
    "test_text = \"I dont know about the game rainbow six siege\"\n",
    "predicted_label = predict_sentiment(test_text)\n",
    "print(f\"Sentiment: {predicted_label}\")"
   ]
  },
  {
   "cell_type": "code",
   "execution_count": null,
   "id": "dc8858a7-e04d-401a-bb82-c9eddd4a6966",
   "metadata": {},
   "outputs": [],
   "source": [
    "true_labels = [1, 0, 2]\n",
    "predicted_labels = [predict_sentiment(text) for text in test_text]\n",
    "conf_matrix = confusion_matrix(true_labels, predicted_labels)\n",
    "plt.figure(figsize=(6, 4))\n",
    "plt.xlabel(\"Predicted Label\")\n",
    "plt.ylabel(\"True Label\")\n",
    "plt.title(\"Confusion Matrix\")\n",
    "plt.show()"
   ]
  },
  {
   "cell_type": "code",
   "execution_count": null,
   "id": "4e63a303-fc98-4dba-9a82-98a20269c3c9",
   "metadata": {},
   "outputs": [],
   "source": []
  }
 ],
 "metadata": {
  "kernelspec": {
   "display_name": "sentiment_venv",
   "language": "python",
   "name": "sentiment_venv"
  },
  "language_info": {
   "codemirror_mode": {
    "name": "ipython",
    "version": 3
   },
   "file_extension": ".py",
   "mimetype": "text/x-python",
   "name": "python",
   "nbconvert_exporter": "python",
   "pygments_lexer": "ipython3",
   "version": "3.12.8"
  }
 },
 "nbformat": 4,
 "nbformat_minor": 5
}
