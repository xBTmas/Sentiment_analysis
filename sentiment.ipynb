{
 "cells": [
  {
   "cell_type": "code",
   "execution_count": null,
   "id": "2bc91174-de8e-45a0-914a-a68c8806fec6",
   "metadata": {},
   "outputs": [],
   "source": [
    "import torch\n",
    "import torch.nn as nn\n",
    "import pandas as pd\n",
    "from transformers import BertTokenizer\n",
    "import warnings\n",
    "warnings.filterwarnings('ignore')\n",
    "\n",
    "from torch.utils.data import Dataset, DataLoader\n",
    "from transformers import AutoModelForSequenceClassification\n",
    "from transformers import AdamW\n",
    "\n",
    "from sklearn.model_selection import train_test_split\n",
    "from sklearn.metrics import accuracy_score\n",
    "from tqdm import tqdm\n",
    "\n",
    "import matplotlib.pyplot as plt\n",
    "from sklearn.metrics import confusion_matrix, classification_report"
   ]
  },
  {
   "cell_type": "code",
   "execution_count": null,
   "id": "20efd8ae-d5ee-4305-882a-f8bca711b587",
   "metadata": {
    "scrolled": true
   },
   "outputs": [],
   "source": [
    "df = pd.read_csv('twitter_training.csv')\n",
    "print (df.head())"
   ]
  },
  {
   "cell_type": "code",
   "execution_count": null,
   "id": "43ab7bda-3afd-4a2f-afb4-82d17549fbc0",
   "metadata": {},
   "outputs": [],
   "source": [
    "df = df.drop(df.columns[[0, 1]], axis=1)\n",
    "df.columns = ['sentiment', 'text']\n",
    "df.dropna(inplace=True)\n",
    "print(df.head())"
   ]
  },
  {
   "cell_type": "code",
   "execution_count": null,
   "id": "623cd68f-f5d6-4ce2-8186-0f00a2983d28",
   "metadata": {},
   "outputs": [],
   "source": [
    "tokenizer = BertTokenizer.from_pretrained(\"bert-base-uncased\")\n",
    "def tokenize_text(text):\n",
    "    return tokenizer.encode_plus(\n",
    "        text,\n",
    "        max_length=128,\n",
    "        truncation= True,\n",
    "        padding = 'max_length',\n",
    "        return_tensors= 'pt'\n",
    "    )\n",
    "df['tokens'] = df['text'].apply(tokenize_text)\n",
    "label_map = {'Positive':1, 'Negative':0, 'Neutral': 2}\n",
    "df['label'] = df['sentiment'].map(label_map)"
   ]
  },
  {
   "cell_type": "code",
   "execution_count": null,
   "id": "f7866e68-a4ce-48a8-a799-bd8e7d654980",
   "metadata": {},
   "outputs": [],
   "source": [
    "df = df[df['sentiment'] != 'Irrelevant']\n",
    "print(df['sentiment'].unique())"
   ]
  },
  {
   "cell_type": "code",
   "execution_count": null,
   "id": "15cc39c1-540a-4146-8a3e-be29f5913f48",
   "metadata": {},
   "outputs": [],
   "source": [
    "df['label'] = df['label'].astype(int)\n",
    "input_ids = torch.stack([t['input_ids'].squeeze(0) for t in df['tokens']])\n",
    "attention_masks = torch.stack([t['attention_mask'].squeeze(0) for t in df['tokens']])\n",
    "labels = torch.tensor(df['label'].values, dtype=torch.long)"
   ]
  },
  {
   "cell_type": "code",
   "execution_count": null,
   "id": "6c92d30b-8753-46f8-86e4-23dad6cbcd2a",
   "metadata": {},
   "outputs": [],
   "source": [
    "class Sentiment_dataset(Dataset):\n",
    "    def __init__(self, input_ids, attention_masks, labels):\n",
    "        self.attention_masks = attention_masks\n",
    "        self.input_ids = input_ids\n",
    "        self.labels = labels\n",
    "        \n",
    "    def __len__(self):\n",
    "        return len(self.input_ids)\n",
    "\n",
    "    def __getitem__(self, idx):\n",
    "        return{\n",
    "            'input_ids': self.input_ids[idx],\n",
    "            'attention_masks': self.attention_masks[idx],\n",
    "            'labels': self.labels[idx]\n",
    "        }"
   ]
  },
  {
   "cell_type": "code",
   "execution_count": null,
   "id": "94185af3-4c60-414e-8a54-59951900338d",
   "metadata": {},
   "outputs": [],
   "source": [
    "train_input_ids, val_input_ids, train_attention_masks, val_attention_masks, train_labels, val_labels = train_test_split(input_ids, attention_masks, labels, test_size=0.2, random_state=42)\n",
    "print(f\"Train size: {len(train_input_ids)}, Validation size: {len(val_input_ids)}\")"
   ]
  },
  {
   "cell_type": "code",
   "execution_count": null,
   "id": "c9912afa-e653-46b9-a0cd-ef4675c0c7c2",
   "metadata": {},
   "outputs": [],
   "source": [
    "train_dataset = Sentiment_dataset(train_input_ids, train_attention_masks, train_labels)\n",
    "val_dataset = Sentiment_dataset(val_input_ids, val_attention_masks, val_labels)\n",
    "\n",
    "train_dataloader = DataLoader(train_dataset, batch_size= 32, shuffle=True)\n",
    "val_dataloader = DataLoader(val_dataset, batch_size=32, shuffle=False)"
   ]
  },
  {
   "cell_type": "code",
   "execution_count": null,
   "id": "92dfdb37-3787-4b0f-a15c-3d8a5c63e0e8",
   "metadata": {},
   "outputs": [],
   "source": [
    "model_name = \"bert-base-uncased\"\n",
    "model = AutoModelForSequenceClassification.from_pretrained(model_name, num_labels=3)\n",
    "loss_fn = nn.CrossEntropyLoss()"
   ]
  },
  {
   "cell_type": "code",
   "execution_count": null,
   "id": "9a832c60-cd5e-4d23-91c1-5785bfd8e8a9",
   "metadata": {
    "scrolled": true
   },
   "outputs": [],
   "source": [
    "device = torch.device(\"cuda\" if torch.cuda.is_available() else \"cpu\")\n",
    "print(\"Device being used:\", device)\n",
    "model.to(device)"
   ]
  },
  {
   "cell_type": "code",
   "execution_count": null,
   "id": "490c4ba0-479b-47d6-90c7-fcf6ff5798d4",
   "metadata": {},
   "outputs": [],
   "source": [
    "optimizer = AdamW(model.parameters(), lr=2e-5, eps=1e-8)"
   ]
  },
  {
   "cell_type": "code",
   "execution_count": null,
   "id": "06424914-b487-4efb-8f79-cbff9766f6f9",
   "metadata": {},
   "outputs": [],
   "source": [
    "num_epochs = 10\n",
    "save_path = \"bert_sentiment_model.pth\"\n",
    "for epoch in range(num_epoch):\n",
    "    model.train()\n",
    "    total_train_loss = 0\n",
    "    correct = 0\n",
    "    total = 0\n",
    "    train_bar = tqdm(train_dataloader, desc=f\"Epoch {epoch+1}/{num_epochs} [Training]\")\n",
    "\n",
    "    for batch in train_bar:\n",
    "        input_ids = batch['input_ids'].to(device)\n",
    "        attention_masks = batch['attention_masks'].to(device)\n",
    "        labels = batch['labels'].to(device)\n",
    "\n",
    "        optimizer.zero_grad()\n",
    "\n",
    "        outputs =model(input_ids, attention_mask = attention_masks)\n",
    "        loss = loss_fn(outputs.logits, labels)\n",
    "        total_train_loss += loss.item()\n",
    "\n",
    "        loss.backward()\n",
    "        optimizer.step()\n",
    "\n",
    "        predictions = torch.argmax(outputs.logits, dim=1)\n",
    "        correct += (predictions == labels).sum().item()\n",
    "        total += labels.size(0)\n",
    "        train_bar.set_postfix(loss=loss.item(), acc=correct / total)\n",
    "    \n",
    "    avg_train_loss = total_train_loss / len(train_dataloader)\n",
    "    train_accuracy = correct/total\n",
    "    print(f\"\\nTraining Loss: {avg_train_loss:.4f}, \\nTraining Accuracy: {train_accuracy:.4f}\")\n",
    "\n",
    "    model.eval()\n",
    "    total_val_loss = 0\n",
    "    correct = 0\n",
    "    total = 0\n",
    "\n",
    "    val_bar = tqdm(val_dataloader, desc=f\"Epoch {epoch+1}/{num_epochs} [Validation]\")\n",
    "\n",
    "    with torch.no_grad():\n",
    "        for batch in val_bar:\n",
    "            input_ids = batch['input_ids'].to(device)\n",
    "            attention_masks = batch['attention_masks'].to(device)\n",
    "            labels = batch['labels'].to(device)\n",
    "\n",
    "            outputs =model(input_ids, attention_masks = attention_masks)\n",
    "            loss = loss_fn(outputs.logits, labels)\n",
    "            \n",
    "            total_val_loss += loss.item()\n",
    "            correct += (predictions == labels).sum().item()\n",
    "            total += labels.size(0)\n",
    "            \n",
    "            val_bar.set_postfix(loss=loss.item(), acc=correct / total)\n",
    "    avg_val_loss = total_val_loss / len(val_dataloader)\n",
    "    val_accuracy = correct/total\n",
    "    print(f\"\\nValidation Loss: {avg_val_loss:.4f}, Validation Accuracy: {val_accuracy:.4f}\")\n",
    "    print(\"-\" * 50)\n",
    "\n",
    "    torch.save(model.state_dict(), save_path)\n",
    "    print(f\"Model saved to {save_path}\")"
   ]
  },
  {
   "cell_type": "code",
   "execution_count": null,
   "id": "b558b3a1-e3f5-499b-9a25-95defcb1b664",
   "metadata": {},
   "outputs": [],
   "source": [
    "label_map = {0: 'Negative', 1: 'Positive', 2: 'Neutral'}\n",
    "reverse_label_map = {v: k for k, v in label_map.items()}  # Reverse mapping for easier indexing\n",
    "\n",
    "def evaluate_model(model, dataloader, device):\n",
    "    model.eval()\n",
    "    all_preds = []\n",
    "    all_labels = []\n",
    "    \n",
    "    with torch.no_grad():\n",
    "        for batch in dataloader:\n",
    "            input_ids = batch['input_ids'].to(device)\n",
    "            attention_mask = batch['attention_mask'].to(device)\n",
    "            labels = batch['label'].to(device)  # True labels\n",
    "            \n",
    "            outputs = model(input_ids, attention_mask=attention_mask)\n",
    "            predictions = torch.argmax(outputs.logits, dim=1)\n",
    "            \n",
    "            all_preds.extend(predictions.cpu().numpy())  # Move to CPU\n",
    "            all_labels.extend(labels.cpu().numpy())\n",
    "\n",
    "    return all_labels, all_preds\n",
    "\n",
    "# Get predictions\n",
    "true_labels, pred_labels = evaluate_model(model, test_dataloader, device)\n",
    "\n",
    "# Create confusion matrix\n",
    "cm = confusion_matrix(true_labels, pred_labels)\n",
    "\n",
    "# Plot confusion matrix\n",
    "plt.figure(figsize=(6, 5))\n",
    "sns.heatmap(cm, annot=True, fmt=\"d\", cmap=\"Blues\", xticklabels=label_map.values(), yticklabels=label_map.values())\n",
    "plt.xlabel(\"Predicted Label\")\n",
    "plt.ylabel(\"True Label\")\n",
    "plt.title(\"Confusion Matrix\")\n",
    "plt.show()\n",
    "\n",
    "# Print classification report for additional metrics\n",
    "print(classification_report(true_labels, pred_labels, target_names=label_map.values()))"
   ]
  },
  {
   "cell_type": "code",
   "execution_count": null,
   "id": "e3351f3f-5ddf-457f-9918-ef4ad69eb800",
   "metadata": {},
   "outputs": [],
   "source": []
  }
 ],
 "metadata": {
  "kernelspec": {
   "display_name": "sentiment_venv",
   "language": "python",
   "name": "sentiment_venv"
  },
  "language_info": {
   "codemirror_mode": {
    "name": "ipython",
    "version": 3
   },
   "file_extension": ".py",
   "mimetype": "text/x-python",
   "name": "python",
   "nbconvert_exporter": "python",
   "pygments_lexer": "ipython3",
   "version": "3.12.8"
  }
 },
 "nbformat": 4,
 "nbformat_minor": 5
}
